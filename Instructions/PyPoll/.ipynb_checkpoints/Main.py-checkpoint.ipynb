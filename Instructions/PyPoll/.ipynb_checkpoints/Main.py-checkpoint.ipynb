{
 "cells": [
  {
   "cell_type": "code",
   "execution_count": 123,
   "id": "d1efb280",
   "metadata": {},
   "outputs": [],
   "source": [
    "import os, csv"
   ]
  },
  {
   "cell_type": "code",
   "execution_count": 124,
   "id": "9fba230f",
   "metadata": {},
   "outputs": [
    {
     "data": {
      "text/plain": [
       "'Resources\\\\election_data.csv'"
      ]
     },
     "execution_count": 124,
     "metadata": {},
     "output_type": "execute_result"
    }
   ],
   "source": [
    "election_csv = os.path.join(\"Resources\", \"election_data.csv\")\n",
    "election_csv"
   ]
  },
  {
   "cell_type": "code",
   "execution_count": 125,
   "id": "05dc6a6a",
   "metadata": {},
   "outputs": [],
   "source": [
    "# Lists to store data\n",
    "total_votes = 0\n",
    "vote_count = {}"
   ]
  },
  {
   "cell_type": "code",
   "execution_count": 126,
   "id": "e93c9d52",
   "metadata": {},
   "outputs": [
    {
     "name": "stdout",
     "output_type": "stream",
     "text": [
      "Header: ['Ballot ID', 'County', 'Candidate']\n"
     ]
    }
   ],
   "source": [
    "# Read into CSV\n",
    "with open(election_csv) as csv_file:\n",
    "    csv_reader = csv.reader(csv_file, delimiter=\",\")\n",
    "    \n",
    "    csv_header = next(csv_reader)\n",
    "    print(f\"Header: {csv_header}\")\n",
    "    for row in csv_reader:\n",
    "        # Getting the total votes\n",
    "        total_votes += 1\n",
    "        \n",
    "        #Find Candidates\n",
    "        candidate = row[2]\n",
    "        \n",
    "        #Each candidate vote total\n",
    "        vote_count[candidate] = vote_count.get(candidate, 0) + 1\n",
    "        "
   ]
  },
  {
   "cell_type": "code",
   "execution_count": 127,
   "id": "f9531005",
   "metadata": {},
   "outputs": [
    {
     "data": {
      "text/plain": [
       "{'Charles Casper Stockham': 85213,\n",
       " 'Diana DeGette': 272892,\n",
       " 'Raymon Anthony Doane': 11606}"
      ]
     },
     "execution_count": 127,
     "metadata": {},
     "output_type": "execute_result"
    }
   ],
   "source": [
    "#Candidate votes\n",
    "vote_count"
   ]
  },
  {
   "cell_type": "code",
   "execution_count": 128,
   "id": "210246ac",
   "metadata": {},
   "outputs": [
    {
     "data": {
      "text/plain": [
       "369711"
      ]
     },
     "execution_count": 128,
     "metadata": {},
     "output_type": "execute_result"
    }
   ],
   "source": [
    "#Total amount of votes\n",
    "total_votes"
   ]
  },
  {
   "cell_type": "code",
   "execution_count": 129,
   "id": "3eb22c5d",
   "metadata": {},
   "outputs": [
    {
     "name": "stdout",
     "output_type": "stream",
     "text": [
      "23.049%\n"
     ]
    }
   ],
   "source": [
    "#Charles vote percentage\n",
    "percentage = vote_count[\"Charles Casper Stockham\"]/total_votes * 100\n",
    "charles_percentage = round(percentage, 3)\n",
    "charles_string = str(charles_percentage) + \"%\"\n",
    "print(charles_string)"
   ]
  },
  {
   "cell_type": "code",
   "execution_count": 130,
   "id": "c61af958",
   "metadata": {},
   "outputs": [
    {
     "name": "stdout",
     "output_type": "stream",
     "text": [
      "73.812%\n"
     ]
    }
   ],
   "source": [
    "#Diana vote percentage\n",
    "percentage = vote_count[\"Diana DeGette\"]/total_votes * 100\n",
    "diana_percentage = round(percentage, 3)\n",
    "diana_string = str(diana_percentage) + \"%\"\n",
    "print(diana_string)"
   ]
  },
  {
   "cell_type": "code",
   "execution_count": 131,
   "id": "2fa91013",
   "metadata": {},
   "outputs": [
    {
     "name": "stdout",
     "output_type": "stream",
     "text": [
      "3.139%\n"
     ]
    }
   ],
   "source": [
    "#Raymon vote percentage\n",
    "percentage = vote_count[\"Raymon Anthony Doane\"]/total_votes * 100\n",
    "raymon_percentage = round(percentage, 3)\n",
    "raymon_string = str(raymon_percentage) + \"%\"\n",
    "print(raymon_string)"
   ]
  },
  {
   "cell_type": "code",
   "execution_count": 132,
   "id": "f2a9bc69",
   "metadata": {},
   "outputs": [
    {
     "name": "stdout",
     "output_type": "stream",
     "text": [
      "Winner: Diana DeGette\n"
     ]
    }
   ],
   "source": [
    "#Calculate Winner\n",
    "winner = max(vote_count, key=vote_count.get)\n",
    "print(\"Winner:\", winner)"
   ]
  },
  {
   "cell_type": "code",
   "execution_count": 133,
   "id": "9382a42f",
   "metadata": {},
   "outputs": [],
   "source": [
    "# Specify the file to write to\n",
    "output_path = os.path.join(\"analysis\", \"new.csv\")"
   ]
  },
  {
   "cell_type": "code",
   "execution_count": 134,
   "id": "9c957b06",
   "metadata": {},
   "outputs": [],
   "source": [
    "# Open the file using \"write\" mode. Specify the variable to hold the contents\n",
    "with open(output_path, 'w') as csvfile:\n",
    "\n",
    "    # Initialize csv.writer\n",
    "    csvwriter = csv.writer(csvfile)\n",
    "    \n",
    "    # Write the first row (column headers)\n",
    "    csvwriter.writerow(['Election Results'])\n",
    "\n",
    "    # Write the second row\n",
    "    csvwriter.writerow(['-------------------------'])\n",
    "    \n",
    "     # Write the third row\n",
    "    csvwriter.writerow(['Total Votes: 369711'])\n",
    "    \n",
    "     # Write the fourth row\n",
    "    csvwriter.writerow(['-------------------------'])\n",
    "    \n",
    "     # Write the fifth row\n",
    "    csvwriter.writerow(['Charles Casper Stockham: 23.049% (85213)'])\n",
    "    \n",
    "     # Write the sixth row\n",
    "    csvwriter.writerow(['Diana DeGette: 73.812% (272892)'])\n",
    "    \n",
    "     # Write the seventh row\n",
    "    csvwriter.writerow(['Raymon Anthony Doane: 3.139% (11606)'])\n",
    "    \n",
    "    # Write the eighth row\n",
    "    csvwriter.writerow(['-------------------------'])\n",
    "    \n",
    "    # Write the nineth row\n",
    "    csvwriter.writerow(['Winner: Diana DeGette'])\n",
    "    \n",
    "    # Write the tenth row\n",
    "    csvwriter.writerow(['-------------------------'])"
   ]
  },
  {
   "cell_type": "code",
   "execution_count": null,
   "id": "f6eddaa0",
   "metadata": {},
   "outputs": [],
   "source": []
  }
 ],
 "metadata": {
  "kernelspec": {
   "display_name": "Python 3 (ipykernel)",
   "language": "python",
   "name": "python3"
  },
  "language_info": {
   "codemirror_mode": {
    "name": "ipython",
    "version": 3
   },
   "file_extension": ".py",
   "mimetype": "text/x-python",
   "name": "python",
   "nbconvert_exporter": "python",
   "pygments_lexer": "ipython3",
   "version": "3.9.13"
  }
 },
 "nbformat": 4,
 "nbformat_minor": 5
}
