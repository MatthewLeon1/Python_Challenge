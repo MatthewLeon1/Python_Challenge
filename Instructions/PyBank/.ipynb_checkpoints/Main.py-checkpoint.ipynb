{
 "cells": [
  {
   "cell_type": "code",
   "execution_count": 2,
   "id": "a34160a3",
   "metadata": {},
   "outputs": [],
   "source": [
    "import os, csv"
   ]
  },
  {
   "cell_type": "code",
   "execution_count": 40,
   "id": "cfea892c",
   "metadata": {},
   "outputs": [
    {
     "data": {
      "text/plain": [
       "'Resources\\\\budget_data.csv'"
      ]
     },
     "execution_count": 40,
     "metadata": {},
     "output_type": "execute_result"
    }
   ],
   "source": [
    "budget_csv = os.path.join(\"Resources\", \"budget_data.csv\")\n",
    "budget_csv"
   ]
  },
  {
   "cell_type": "code",
   "execution_count": 42,
   "id": "9eab92c5",
   "metadata": {},
   "outputs": [
    {
     "name": "stdout",
     "output_type": "stream",
     "text": [
      "Header: ['Date', 'Profit/Losses']\n"
     ]
    }
   ],
   "source": [
    "with open(budget_csv) as csv_file:\n",
    "    csv_reader = csv.reader(csv_file, delimiter=\",\")\n",
    "    \n",
    "    csv_header = next(csv_reader)\n",
    "    print(f\"Header: {csv_header}\")\n",
    "    "
   ]
  },
  {
   "cell_type": "code",
   "execution_count": 39,
   "id": "afbeb316",
   "metadata": {},
   "outputs": [
    {
     "name": "stdout",
     "output_type": "stream",
     "text": [
      "Resources\\budget_data.csv\n",
      "Resources\\budget_data.csv\n",
      "Resources\\budget_data.csv\n",
      "Resources\\budget_data.csv\n",
      "Resources\\budget_data.csv\n",
      "Resources\\budget_data.csv\n",
      "Resources\\budget_data.csv\n",
      "Resources\\budget_data.csv\n",
      "Resources\\budget_data.csv\n",
      "Resources\\budget_data.csv\n",
      "Resources\\budget_data.csv\n",
      "Resources\\budget_data.csv\n",
      "Resources\\budget_data.csv\n",
      "Resources\\budget_data.csv\n",
      "Resources\\budget_data.csv\n",
      "Resources\\budget_data.csv\n",
      "Resources\\budget_data.csv\n",
      "Resources\\budget_data.csv\n",
      "Resources\\budget_data.csv\n",
      "Resources\\budget_data.csv\n",
      "Resources\\budget_data.csv\n",
      "Resources\\budget_data.csv\n",
      "Resources\\budget_data.csv\n",
      "Resources\\budget_data.csv\n",
      "Resources\\budget_data.csv\n"
     ]
    }
   ],
   "source": [
    "for row in budget_csv:\n",
    "    print(budget_csv)"
   ]
  },
  {
   "cell_type": "code",
   "execution_count": null,
   "id": "d9d31933",
   "metadata": {},
   "outputs": [],
   "source": []
  }
 ],
 "metadata": {
  "kernelspec": {
   "display_name": "Python 3 (ipykernel)",
   "language": "python",
   "name": "python3"
  },
  "language_info": {
   "codemirror_mode": {
    "name": "ipython",
    "version": 3
   },
   "file_extension": ".py",
   "mimetype": "text/x-python",
   "name": "python",
   "nbconvert_exporter": "python",
   "pygments_lexer": "ipython3",
   "version": "3.9.13"
  }
 },
 "nbformat": 4,
 "nbformat_minor": 5
}
