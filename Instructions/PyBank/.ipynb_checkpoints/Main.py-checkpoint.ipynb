{
 "cells": [
  {
   "cell_type": "code",
   "execution_count": 7,
   "id": "a34160a3",
   "metadata": {},
   "outputs": [],
   "source": [
    "import os, csv"
   ]
  },
  {
   "cell_type": "code",
   "execution_count": 8,
   "id": "cfea892c",
   "metadata": {},
   "outputs": [
    {
     "data": {
      "text/plain": [
       "'Resources\\\\budget_data.csv'"
      ]
     },
     "execution_count": 8,
     "metadata": {},
     "output_type": "execute_result"
    }
   ],
   "source": [
    "budget_csv = os.path.join(\"Resources\", \"budget_data.csv\")\n",
    "budget_csv"
   ]
  },
  {
   "cell_type": "code",
   "execution_count": 9,
   "id": "da1cd8ff",
   "metadata": {},
   "outputs": [],
   "source": [
    "# Lists to store data\n",
    "total_months = 0\n",
    "total = 0\n",
    "changes = []"
   ]
  },
  {
   "cell_type": "code",
   "execution_count": 10,
   "id": "d50ba25b",
   "metadata": {},
   "outputs": [
    {
     "name": "stdout",
     "output_type": "stream",
     "text": [
      "Header: ['Date', 'Profit/Losses']\n",
      "['Jan-10', '1088983']\n",
      "1\n",
      "['Feb-10', '-354534']\n",
      "2\n",
      "['Mar-10', '276622']\n",
      "3\n",
      "['Apr-10', '-728133']\n",
      "4\n",
      "['May-10', '852993']\n",
      "5\n",
      "['Jun-10', '563721']\n",
      "6\n",
      "['Jul-10', '-535208']\n",
      "7\n",
      "['Aug-10', '632349']\n",
      "8\n",
      "['Sep-10', '-173744']\n",
      "9\n",
      "['Oct-10', '950741']\n",
      "10\n",
      "['Nov-10', '-785750']\n",
      "11\n",
      "['Dec-10', '-1194133']\n",
      "12\n",
      "['Jan-11', '-589576']\n",
      "13\n",
      "['Feb-11', '-883921']\n",
      "14\n",
      "['Mar-11', '443564']\n",
      "15\n",
      "['Apr-11', '837887']\n",
      "16\n",
      "['May-11', '1081472']\n",
      "17\n",
      "['Jun-11', '464033']\n",
      "18\n",
      "['Jul-11', '-1066544']\n",
      "19\n",
      "['Aug-11', '323846']\n",
      "20\n",
      "['Sep-11', '-806551']\n",
      "21\n",
      "['Oct-11', '487053']\n",
      "22\n",
      "['Nov-11', '1128811']\n",
      "23\n",
      "['Dec-11', '791398']\n",
      "24\n",
      "['Jan-12', '739367']\n",
      "25\n",
      "['Feb-12', '-197825']\n",
      "26\n",
      "['Mar-12', '666016']\n",
      "27\n",
      "['Apr-12', '589771']\n",
      "28\n",
      "['May-12', '489290']\n",
      "29\n",
      "['Jun-12', '-471439']\n",
      "30\n",
      "['Jul-12', '120417']\n",
      "31\n",
      "['Aug-12', '175347']\n",
      "32\n",
      "['Sep-12', '855449']\n",
      "33\n",
      "['Oct-12', '605195']\n",
      "34\n",
      "['Nov-12', '-235220']\n",
      "35\n",
      "['Dec-12', '347138']\n",
      "36\n",
      "['Jan-13', '298510']\n",
      "37\n",
      "['Feb-13', '163254']\n",
      "38\n",
      "['Mar-13', '1141840']\n",
      "39\n",
      "['Apr-13', '542630']\n",
      "40\n",
      "['May-13', '99841']\n",
      "41\n",
      "['Jun-13', '752765']\n",
      "42\n",
      "['Jul-13', '-252949']\n",
      "43\n",
      "['Aug-13', '914424']\n",
      "44\n",
      "['Sep-13', '679524']\n",
      "45\n",
      "['Oct-13', '514377']\n",
      "46\n",
      "['Nov-13', '462102']\n",
      "47\n",
      "['Dec-13', '159782']\n",
      "48\n",
      "['Jan-14', '878810']\n",
      "49\n",
      "['Feb-14', '-946748']\n",
      "50\n",
      "['Mar-14', '340335']\n",
      "51\n",
      "['Apr-14', '292032']\n",
      "52\n",
      "['May-14', '502266']\n",
      "53\n",
      "['Jun-14', '265852']\n",
      "54\n",
      "['Jul-14', '851017']\n",
      "55\n",
      "['Aug-14', '-549615']\n",
      "56\n",
      "['Sep-14', '290162']\n",
      "57\n",
      "['Oct-14', '755391']\n",
      "58\n",
      "['Nov-14', '1073202']\n",
      "59\n",
      "['Dec-14', '313000']\n",
      "60\n",
      "['Jan-15', '241132']\n",
      "61\n",
      "['Feb-15', '1036589']\n",
      "62\n",
      "['Mar-15', '853904']\n",
      "63\n",
      "['Apr-15', '-388932']\n",
      "64\n",
      "['May-15', '982952']\n",
      "65\n",
      "['Jun-15', '537759']\n",
      "66\n",
      "['Jul-15', '547784']\n",
      "67\n",
      "['Aug-15', '-496214']\n",
      "68\n",
      "['Sep-15', '854181']\n",
      "69\n",
      "['Oct-15', '934719']\n",
      "70\n",
      "['Nov-15', '-288531']\n",
      "71\n",
      "['Dec-15', '-184383']\n",
      "72\n",
      "['Jan-16', '659541']\n",
      "73\n",
      "['Feb-16', '-1149123']\n",
      "74\n",
      "['Mar-16', '355882']\n",
      "75\n",
      "['Apr-16', '662284']\n",
      "76\n",
      "['May-16', '518681']\n",
      "77\n",
      "['Jun-16', '-748256']\n",
      "78\n",
      "['Jul-16', '-910775']\n",
      "79\n",
      "['Aug-16', '951227']\n",
      "80\n",
      "['Sep-16', '898241']\n",
      "81\n",
      "['Oct-16', '-729004']\n",
      "82\n",
      "['Nov-16', '-112209']\n",
      "83\n",
      "['Dec-16', '516313']\n",
      "84\n",
      "['Jan-17', '607208']\n",
      "85\n",
      "['Feb-17', '382539']\n",
      "86\n"
     ]
    }
   ],
   "source": [
    "#Read into CSV\n",
    "with open(budget_csv) as csv_file:\n",
    "    csv_reader = csv.reader(csv_file, delimiter=\",\")\n",
    "    \n",
    "    csv_header = next(csv_reader)\n",
    "    print(f\"Header: {csv_header}\")\n",
    "    for i, row in enumerate(csv_reader):\n",
    "        print(row)\n",
    "        \n",
    "        # Count Months\n",
    "        total_months += 1\n",
    "        print(total_months)\n",
    "        \n",
    "        # Getting the total\n",
    "        total += int(row[1])\n",
    "        \n",
    "        # Tracking average change\n",
    "        if i > 0:\n",
    "            change = int(row[1]) - prev\n",
    "            changes.append(change)\n",
    "            \n",
    "        prev = int(row[1])"
   ]
  },
  {
   "cell_type": "code",
   "execution_count": 16,
   "id": "8bb4aee5",
   "metadata": {},
   "outputs": [
    {
     "data": {
      "text/plain": [
       "86"
      ]
     },
     "execution_count": 16,
     "metadata": {},
     "output_type": "execute_result"
    }
   ],
   "source": [
    "total_months"
   ]
  },
  {
   "cell_type": "code",
   "execution_count": 25,
   "id": "d7b4ad1f",
   "metadata": {},
   "outputs": [
    {
     "data": {
      "text/plain": [
       "22564198"
      ]
     },
     "execution_count": 25,
     "metadata": {},
     "output_type": "execute_result"
    }
   ],
   "source": [
    "total"
   ]
  },
  {
   "cell_type": "code",
   "execution_count": 38,
   "id": "98fcc8c2",
   "metadata": {},
   "outputs": [
    {
     "data": {
      "text/plain": [
       "[-1443517,\n",
       " 631156,\n",
       " -1004755,\n",
       " 1581126,\n",
       " -289272,\n",
       " -1098929,\n",
       " 1167557,\n",
       " -806093,\n",
       " 1124485,\n",
       " -1736491,\n",
       " -408383,\n",
       " 604557,\n",
       " -294345,\n",
       " 1327485,\n",
       " 394323,\n",
       " 243585,\n",
       " -617439,\n",
       " -1530577,\n",
       " 1390390,\n",
       " -1130397,\n",
       " 1293604,\n",
       " 641758,\n",
       " -337413,\n",
       " -52031,\n",
       " -937192,\n",
       " 863841,\n",
       " -76245,\n",
       " -100481,\n",
       " -960729,\n",
       " 591856,\n",
       " 54930,\n",
       " 680102,\n",
       " -250254,\n",
       " -840415,\n",
       " 582358,\n",
       " -48628,\n",
       " -135256,\n",
       " 978586,\n",
       " -599210,\n",
       " -442789,\n",
       " 652924,\n",
       " -1005714,\n",
       " 1167373,\n",
       " -234900,\n",
       " -165147,\n",
       " -52275,\n",
       " -302320,\n",
       " 719028,\n",
       " -1825558,\n",
       " 1287083,\n",
       " -48303,\n",
       " 210234,\n",
       " -236414,\n",
       " 585165,\n",
       " -1400632,\n",
       " 839777,\n",
       " 465229,\n",
       " 317811,\n",
       " -760202,\n",
       " -71868,\n",
       " 795457,\n",
       " -182685,\n",
       " -1242836,\n",
       " 1371884,\n",
       " -445193,\n",
       " 10025,\n",
       " -1043998,\n",
       " 1350395,\n",
       " 80538,\n",
       " -1223250,\n",
       " 104148,\n",
       " 843924,\n",
       " -1808664,\n",
       " 1505005,\n",
       " 306402,\n",
       " -143603,\n",
       " -1266937,\n",
       " -162519,\n",
       " 1862002,\n",
       " -52986,\n",
       " -1627245,\n",
       " 616795,\n",
       " 628522,\n",
       " 90895,\n",
       " -224669]"
      ]
     },
     "execution_count": 38,
     "metadata": {},
     "output_type": "execute_result"
    }
   ],
   "source": [
    "changes"
   ]
  },
  {
   "cell_type": "code",
   "execution_count": 42,
   "id": "e8816ae7",
   "metadata": {},
   "outputs": [
    {
     "data": {
      "text/plain": [
       "-8311.105882352942"
      ]
     },
     "execution_count": 42,
     "metadata": {},
     "output_type": "execute_result"
    }
   ],
   "source": [
    "# Find average change\n",
    "average_change = sum(changes)/len(changes)\n",
    "average_change"
   ]
  },
  {
   "cell_type": "code",
   "execution_count": 44,
   "id": "6a44054a",
   "metadata": {},
   "outputs": [
    {
     "data": {
      "text/plain": [
       "1862002"
      ]
     },
     "execution_count": 44,
     "metadata": {},
     "output_type": "execute_result"
    }
   ],
   "source": [
    "# Find Greatest Increase\n",
    "max(changes)"
   ]
  },
  {
   "cell_type": "code",
   "execution_count": 45,
   "id": "65feb6ec",
   "metadata": {},
   "outputs": [
    {
     "data": {
      "text/plain": [
       "-1825558"
      ]
     },
     "execution_count": 45,
     "metadata": {},
     "output_type": "execute_result"
    }
   ],
   "source": [
    "# Find Greatest Decrease\n",
    "min(changes)"
   ]
  },
  {
   "cell_type": "code",
   "execution_count": 65,
   "id": "37f7b3e0",
   "metadata": {},
   "outputs": [
    {
     "name": "stdout",
     "output_type": "stream",
     "text": [
      "Financial Analysis\n",
      "-------------------------\n",
      "Total Months: 86\n",
      "Total: $22564198\n",
      "Average Change: $-8311.11\n",
      "Greatest Increase in Profits: $1862002\n",
      "Greatest Decrease in Profits: $-1825558\n"
     ]
    }
   ],
   "source": [
    "print(\"Financial Analysis\")\n",
    "print(\"-------------------------\")\n",
    "print(f\"Total Months: {total_months}\")\n",
    "print(f\"Total: ${total}\")\n",
    "print(f\"Average Change: ${average_change:.2f}\")\n",
    "print(f\"Greatest Increase in Profits: ${max(changes)}\")\n",
    "print(f\"Greatest Decrease in Profits: ${min(changes)}\")"
   ]
  },
  {
   "cell_type": "code",
   "execution_count": 16,
   "id": "7b5fd70e",
   "metadata": {},
   "outputs": [],
   "source": [
    "# Specify the file to write to\n",
    "output_path = os.path.join(\"analysis\", \"new.csv\")"
   ]
  },
  {
   "cell_type": "code",
   "execution_count": 17,
   "id": "2a69f636",
   "metadata": {},
   "outputs": [],
   "source": [
    "# Open the file using \"write\" mode. Specify the variable to hold the contents\n",
    "with open(output_path, 'w') as csvfile:\n",
    "\n",
    "    # Initialize csv.writer\n",
    "    csvwriter = csv.writer(csvfile)\n",
    "    \n",
    "    # Write the first row (column headers)\n",
    "    csvwriter.writerow(['Financial Analysis'])\n",
    "\n",
    "    # Write the second row\n",
    "    csvwriter.writerow(['-------------------------'])\n",
    "    \n",
    "     # Write the second row\n",
    "    csvwriter.writerow(['Total Months: 86'])\n",
    "    \n",
    "     # Write the second row\n",
    "    csvwriter.writerow(['Total: $22564198'])\n",
    "    \n",
    "     # Write the second row\n",
    "    csvwriter.writerow(['Average Change: $-8311.11'])\n",
    "    \n",
    "     # Write the second row\n",
    "    csvwriter.writerow(['Greatest Increase in Profits: $1862002'])\n",
    "    \n",
    "     # Write the second row\n",
    "    csvwriter.writerow(['Greatest Decrease in Profits: $-1825558'])"
   ]
  },
  {
   "cell_type": "code",
   "execution_count": null,
   "id": "bf3d591f",
   "metadata": {},
   "outputs": [],
   "source": []
  }
 ],
 "metadata": {
  "kernelspec": {
   "display_name": "Python 3 (ipykernel)",
   "language": "python",
   "name": "python3"
  },
  "language_info": {
   "codemirror_mode": {
    "name": "ipython",
    "version": 3
   },
   "file_extension": ".py",
   "mimetype": "text/x-python",
   "name": "python",
   "nbconvert_exporter": "python",
   "pygments_lexer": "ipython3",
   "version": "3.9.13"
  }
 },
 "nbformat": 4,
 "nbformat_minor": 5
}
